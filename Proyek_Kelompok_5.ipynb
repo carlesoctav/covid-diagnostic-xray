{
  "nbformat": 4,
  "nbformat_minor": 0,
  "metadata": {
    "colab": {
      "name": "Proyek_Kelompok_5.ipynb",
      "provenance": [],
      "collapsed_sections": [],
      "authorship_tag": "ABX9TyOuS0BTvH41URl0DUPMFAcb",
      "include_colab_link": true
    },
    "kernelspec": {
      "name": "python3",
      "display_name": "Python 3"
    },
    "language_info": {
      "name": "python"
    },
    "accelerator": "GPU"
  },
  "cells": [
    {
      "cell_type": "markdown",
      "metadata": {
        "id": "view-in-github",
        "colab_type": "text"
      },
      "source": [
        "<a href=\"https://colab.research.google.com/github/cxrles/Covid-non_Covid-dataset/blob/main/Proyek_Kelompok_5.ipynb\" target=\"_parent\"><img src=\"https://colab.research.google.com/assets/colab-badge.svg\" alt=\"Open In Colab\"/></a>"
      ]
    },
    {
      "cell_type": "markdown",
      "source": [
        "# Notebook Pengerjaan proyek Kelompok 5\n",
        "Kami Menyarankan untuk membuka notebook ini dengan menggunakan google colab\n",
        "\n",
        "Untuk Mempercepat proses training nantinya gunakanlah GPU dalam prosesnya. Untuk mengaktifkannya lakukan:\n",
        "\n",
        "Edit>>Notebook settings >>Hardware accelerator:GPU\n"
      ],
      "metadata": {
        "id": "wGHYCmQXRq8X"
      }
    },
    {
      "cell_type": "markdown",
      "source": [
        "## Import Module yang akan digunakan"
      ],
      "metadata": {
        "id": "PcvE5rPhRq-H"
      }
    },
    {
      "cell_type": "code",
      "source": [
        "import tensorflow as tf\n",
        "import os\n",
        "import pandas as pd\n",
        "import matplotlib.image as mpimg\n",
        "import matplotlib.pyplot as plt\n",
        "import numpy as np\n",
        "from PIL import Image\n",
        "from sklearn.model_selection import train_test_split"
      ],
      "metadata": {
        "id": "A5s0cdRhTG8L"
      },
      "execution_count": null,
      "outputs": []
    },
    {
      "cell_type": "markdown",
      "source": [
        "## Mendapatkan data set"
      ],
      "metadata": {
        "id": "KPwzlHc1VERt"
      }
    },
    {
      "cell_type": "code",
      "source": [
        "import zipfile\n",
        "import os"
      ],
      "metadata": {
        "id": "00z2QSyNVAKu"
      },
      "execution_count": null,
      "outputs": []
    },
    {
      "cell_type": "code",
      "source": [
        "\n",
        "!wget --no-check-certificate \\\n",
        "    \"https://github.com/cxrles/Covid-non_Covid-dataset/archive/refs/heads/main.zip\" \\\n",
        "    -O \"/tmp/Covid-non_Covid.zip\"\n",
        "\n",
        "\n",
        "zip_ref = zipfile.ZipFile(\"/tmp/Covid-non_Covid.zip\", 'r') #Opens the zip file in read mode\n",
        "zip_ref.extractall('/tmp') #Extracts the files into the /tmp folder\n",
        "zip_ref.close()"
      ],
      "metadata": {
        "colab": {
          "base_uri": "https://localhost:8080/"
        },
        "id": "VCPnPk1eUiM_",
        "outputId": "90cc053b-d254-4ab1-f794-f45ed31145a2"
      },
      "execution_count": null,
      "outputs": [
        {
          "output_type": "stream",
          "name": "stdout",
          "text": [
            "--2022-05-31 11:14:36--  https://github.com/cxrles/Covid-non_Covid-dataset/archive/refs/heads/main.zip\n",
            "Resolving github.com (github.com)... 140.82.114.3\n",
            "Connecting to github.com (github.com)|140.82.114.3|:443... connected.\n",
            "HTTP request sent, awaiting response... 302 Found\n",
            "Location: https://codeload.github.com/cxrles/Covid-non_Covid-dataset/zip/refs/heads/main [following]\n",
            "--2022-05-31 11:14:36--  https://codeload.github.com/cxrles/Covid-non_Covid-dataset/zip/refs/heads/main\n",
            "Resolving codeload.github.com (codeload.github.com)... 140.82.113.9\n",
            "Connecting to codeload.github.com (codeload.github.com)|140.82.113.9|:443... connected.\n",
            "HTTP request sent, awaiting response... 200 OK\n",
            "Length: unspecified [application/zip]\n",
            "Saving to: ‘/tmp/Covid-non_Covid.zip’\n",
            "\n",
            "/tmp/Covid-non_Covi     [  <=>               ] 488.49M  36.9MB/s    in 13s     \n",
            "\n",
            "2022-05-31 11:14:50 (37.0 MB/s) - ‘/tmp/Covid-non_Covid.zip’ saved [512220102]\n",
            "\n"
          ]
        }
      ]
    },
    {
      "cell_type": "markdown",
      "source": [
        "## meload semua path dari data"
      ],
      "metadata": {
        "id": "wZuMPbOKu2dz"
      }
    },
    {
      "cell_type": "code",
      "source": [
        "levels = ['Normal', 'COVID']\n",
        "path = \"/tmp/Covid-non_Covid-dataset-main/Data\"\n",
        "data_dir = os.path.join(path)\n",
        "\n",
        "data = []\n",
        "for id, level in enumerate(levels):\n",
        "    for file in os.listdir(os.path.join(data_dir, level)):\n",
        "        data.append(['{}/{}'.format(level, file), level])\n",
        "\n",
        "data = pd.DataFrame(data, columns = ['image_file', 'corona_result'])\n",
        "\n",
        "data['path'] = path  + \"/\" + data['image_file']\n",
        "data['corona_result'] = data['corona_result'].map({'Normal': 'Negative', 'COVID': 'Positive'})\n",
        "\n",
        "data.head()"
      ],
      "metadata": {
        "id": "W0eOEGxuX20v",
        "colab": {
          "base_uri": "https://localhost:8080/",
          "height": 206
        },
        "outputId": "f6153796-b9af-45bd-86f9-042bc7c8bb21"
      },
      "execution_count": null,
      "outputs": [
        {
          "output_type": "execute_result",
          "data": {
            "text/plain": [
              "               image_file corona_result  \\\n",
              "0   Normal/Normal-306.png      Negative   \n",
              "1  Normal/Normal-6971.png      Negative   \n",
              "2  Normal/Normal-3461.png      Negative   \n",
              "3  Normal/Normal-6656.png      Negative   \n",
              "4  Normal/Normal-8120.png      Negative   \n",
              "\n",
              "                                                path  \n",
              "0  /tmp/Covid-non_Covid-dataset-main/Data/Normal/...  \n",
              "1  /tmp/Covid-non_Covid-dataset-main/Data/Normal/...  \n",
              "2  /tmp/Covid-non_Covid-dataset-main/Data/Normal/...  \n",
              "3  /tmp/Covid-non_Covid-dataset-main/Data/Normal/...  \n",
              "4  /tmp/Covid-non_Covid-dataset-main/Data/Normal/...  "
            ],
            "text/html": [
              "\n",
              "  <div id=\"df-b8026e1d-6f38-49ce-a9aa-b042304c4ace\">\n",
              "    <div class=\"colab-df-container\">\n",
              "      <div>\n",
              "<style scoped>\n",
              "    .dataframe tbody tr th:only-of-type {\n",
              "        vertical-align: middle;\n",
              "    }\n",
              "\n",
              "    .dataframe tbody tr th {\n",
              "        vertical-align: top;\n",
              "    }\n",
              "\n",
              "    .dataframe thead th {\n",
              "        text-align: right;\n",
              "    }\n",
              "</style>\n",
              "<table border=\"1\" class=\"dataframe\">\n",
              "  <thead>\n",
              "    <tr style=\"text-align: right;\">\n",
              "      <th></th>\n",
              "      <th>image_file</th>\n",
              "      <th>corona_result</th>\n",
              "      <th>path</th>\n",
              "    </tr>\n",
              "  </thead>\n",
              "  <tbody>\n",
              "    <tr>\n",
              "      <th>0</th>\n",
              "      <td>Normal/Normal-306.png</td>\n",
              "      <td>Negative</td>\n",
              "      <td>/tmp/Covid-non_Covid-dataset-main/Data/Normal/...</td>\n",
              "    </tr>\n",
              "    <tr>\n",
              "      <th>1</th>\n",
              "      <td>Normal/Normal-6971.png</td>\n",
              "      <td>Negative</td>\n",
              "      <td>/tmp/Covid-non_Covid-dataset-main/Data/Normal/...</td>\n",
              "    </tr>\n",
              "    <tr>\n",
              "      <th>2</th>\n",
              "      <td>Normal/Normal-3461.png</td>\n",
              "      <td>Negative</td>\n",
              "      <td>/tmp/Covid-non_Covid-dataset-main/Data/Normal/...</td>\n",
              "    </tr>\n",
              "    <tr>\n",
              "      <th>3</th>\n",
              "      <td>Normal/Normal-6656.png</td>\n",
              "      <td>Negative</td>\n",
              "      <td>/tmp/Covid-non_Covid-dataset-main/Data/Normal/...</td>\n",
              "    </tr>\n",
              "    <tr>\n",
              "      <th>4</th>\n",
              "      <td>Normal/Normal-8120.png</td>\n",
              "      <td>Negative</td>\n",
              "      <td>/tmp/Covid-non_Covid-dataset-main/Data/Normal/...</td>\n",
              "    </tr>\n",
              "  </tbody>\n",
              "</table>\n",
              "</div>\n",
              "      <button class=\"colab-df-convert\" onclick=\"convertToInteractive('df-b8026e1d-6f38-49ce-a9aa-b042304c4ace')\"\n",
              "              title=\"Convert this dataframe to an interactive table.\"\n",
              "              style=\"display:none;\">\n",
              "        \n",
              "  <svg xmlns=\"http://www.w3.org/2000/svg\" height=\"24px\"viewBox=\"0 0 24 24\"\n",
              "       width=\"24px\">\n",
              "    <path d=\"M0 0h24v24H0V0z\" fill=\"none\"/>\n",
              "    <path d=\"M18.56 5.44l.94 2.06.94-2.06 2.06-.94-2.06-.94-.94-2.06-.94 2.06-2.06.94zm-11 1L8.5 8.5l.94-2.06 2.06-.94-2.06-.94L8.5 2.5l-.94 2.06-2.06.94zm10 10l.94 2.06.94-2.06 2.06-.94-2.06-.94-.94-2.06-.94 2.06-2.06.94z\"/><path d=\"M17.41 7.96l-1.37-1.37c-.4-.4-.92-.59-1.43-.59-.52 0-1.04.2-1.43.59L10.3 9.45l-7.72 7.72c-.78.78-.78 2.05 0 2.83L4 21.41c.39.39.9.59 1.41.59.51 0 1.02-.2 1.41-.59l7.78-7.78 2.81-2.81c.8-.78.8-2.07 0-2.86zM5.41 20L4 18.59l7.72-7.72 1.47 1.35L5.41 20z\"/>\n",
              "  </svg>\n",
              "      </button>\n",
              "      \n",
              "  <style>\n",
              "    .colab-df-container {\n",
              "      display:flex;\n",
              "      flex-wrap:wrap;\n",
              "      gap: 12px;\n",
              "    }\n",
              "\n",
              "    .colab-df-convert {\n",
              "      background-color: #E8F0FE;\n",
              "      border: none;\n",
              "      border-radius: 50%;\n",
              "      cursor: pointer;\n",
              "      display: none;\n",
              "      fill: #1967D2;\n",
              "      height: 32px;\n",
              "      padding: 0 0 0 0;\n",
              "      width: 32px;\n",
              "    }\n",
              "\n",
              "    .colab-df-convert:hover {\n",
              "      background-color: #E2EBFA;\n",
              "      box-shadow: 0px 1px 2px rgba(60, 64, 67, 0.3), 0px 1px 3px 1px rgba(60, 64, 67, 0.15);\n",
              "      fill: #174EA6;\n",
              "    }\n",
              "\n",
              "    [theme=dark] .colab-df-convert {\n",
              "      background-color: #3B4455;\n",
              "      fill: #D2E3FC;\n",
              "    }\n",
              "\n",
              "    [theme=dark] .colab-df-convert:hover {\n",
              "      background-color: #434B5C;\n",
              "      box-shadow: 0px 1px 3px 1px rgba(0, 0, 0, 0.15);\n",
              "      filter: drop-shadow(0px 1px 2px rgba(0, 0, 0, 0.3));\n",
              "      fill: #FFFFFF;\n",
              "    }\n",
              "  </style>\n",
              "\n",
              "      <script>\n",
              "        const buttonEl =\n",
              "          document.querySelector('#df-b8026e1d-6f38-49ce-a9aa-b042304c4ace button.colab-df-convert');\n",
              "        buttonEl.style.display =\n",
              "          google.colab.kernel.accessAllowed ? 'block' : 'none';\n",
              "\n",
              "        async function convertToInteractive(key) {\n",
              "          const element = document.querySelector('#df-b8026e1d-6f38-49ce-a9aa-b042304c4ace');\n",
              "          const dataTable =\n",
              "            await google.colab.kernel.invokeFunction('convertToInteractive',\n",
              "                                                     [key], {});\n",
              "          if (!dataTable) return;\n",
              "\n",
              "          const docLinkHtml = 'Like what you see? Visit the ' +\n",
              "            '<a target=\"_blank\" href=https://colab.research.google.com/notebooks/data_table.ipynb>data table notebook</a>'\n",
              "            + ' to learn more about interactive tables.';\n",
              "          element.innerHTML = '';\n",
              "          dataTable['output_type'] = 'display_data';\n",
              "          await google.colab.output.renderOutput(dataTable, element);\n",
              "          const docLink = document.createElement('div');\n",
              "          docLink.innerHTML = docLinkHtml;\n",
              "          element.appendChild(docLink);\n",
              "        }\n",
              "      </script>\n",
              "    </div>\n",
              "  </div>\n",
              "  "
            ]
          },
          "metadata": {},
          "execution_count": 4
        }
      ]
    },
    {
      "cell_type": "code",
      "source": [
        "data.shape"
      ],
      "metadata": {
        "colab": {
          "base_uri": "https://localhost:8080/"
        },
        "id": "Z70pRArIvq5p",
        "outputId": "57b8dcbc-d1f3-4fae-f126-4183efe38f24"
      },
      "execution_count": null,
      "outputs": [
        {
          "output_type": "execute_result",
          "data": {
            "text/plain": [
              "(13808, 3)"
            ]
          },
          "metadata": {},
          "execution_count": 5
        }
      ]
    },
    {
      "cell_type": "markdown",
      "source": [
        "## Preprocessing data"
      ],
      "metadata": {
        "id": "4X5JBcOmvRkV"
      }
    },
    {
      "cell_type": "code",
      "source": [
        "data['image'] = data['path'].map(lambda x: np.asarray(Image.open(x).resize((75,75))))/255.0\n",
        "data['image']= data['image'].map(lambda x: x.reshape(75,75,1))\n",
        "\n",
        "data.head()"
      ],
      "metadata": {
        "colab": {
          "base_uri": "https://localhost:8080/",
          "height": 206
        },
        "id": "aOr2OHxEvIQZ",
        "outputId": "651942e2-726e-4b45-fafd-e8c3ffb5f9d7"
      },
      "execution_count": null,
      "outputs": [
        {
          "output_type": "execute_result",
          "data": {
            "text/plain": [
              "               image_file corona_result  \\\n",
              "0   Normal/Normal-306.png      Negative   \n",
              "1  Normal/Normal-6971.png      Negative   \n",
              "2  Normal/Normal-3461.png      Negative   \n",
              "3  Normal/Normal-6656.png      Negative   \n",
              "4  Normal/Normal-8120.png      Negative   \n",
              "\n",
              "                                                path  \\\n",
              "0  /tmp/Covid-non_Covid-dataset-main/Data/Normal/...   \n",
              "1  /tmp/Covid-non_Covid-dataset-main/Data/Normal/...   \n",
              "2  /tmp/Covid-non_Covid-dataset-main/Data/Normal/...   \n",
              "3  /tmp/Covid-non_Covid-dataset-main/Data/Normal/...   \n",
              "4  /tmp/Covid-non_Covid-dataset-main/Data/Normal/...   \n",
              "\n",
              "                                               image  \n",
              "0  [[[0.23921568627450981], [0.396078431372549], ...  \n",
              "1  [[[0.0], [0.0], [0.0], [0.0], [0.0], [0.0], [0...  \n",
              "2  [[[0.9294117647058824], [0.9254901960784314], ...  \n",
              "3  [[[0.06666666666666667], [0.10588235294117647]...  \n",
              "4  [[[0.00784313725490196], [0.011764705882352941...  "
            ],
            "text/html": [
              "\n",
              "  <div id=\"df-6ba49737-41c0-4118-a31d-4cf47f1f7912\">\n",
              "    <div class=\"colab-df-container\">\n",
              "      <div>\n",
              "<style scoped>\n",
              "    .dataframe tbody tr th:only-of-type {\n",
              "        vertical-align: middle;\n",
              "    }\n",
              "\n",
              "    .dataframe tbody tr th {\n",
              "        vertical-align: top;\n",
              "    }\n",
              "\n",
              "    .dataframe thead th {\n",
              "        text-align: right;\n",
              "    }\n",
              "</style>\n",
              "<table border=\"1\" class=\"dataframe\">\n",
              "  <thead>\n",
              "    <tr style=\"text-align: right;\">\n",
              "      <th></th>\n",
              "      <th>image_file</th>\n",
              "      <th>corona_result</th>\n",
              "      <th>path</th>\n",
              "      <th>image</th>\n",
              "    </tr>\n",
              "  </thead>\n",
              "  <tbody>\n",
              "    <tr>\n",
              "      <th>0</th>\n",
              "      <td>Normal/Normal-306.png</td>\n",
              "      <td>Negative</td>\n",
              "      <td>/tmp/Covid-non_Covid-dataset-main/Data/Normal/...</td>\n",
              "      <td>[[[0.23921568627450981], [0.396078431372549], ...</td>\n",
              "    </tr>\n",
              "    <tr>\n",
              "      <th>1</th>\n",
              "      <td>Normal/Normal-6971.png</td>\n",
              "      <td>Negative</td>\n",
              "      <td>/tmp/Covid-non_Covid-dataset-main/Data/Normal/...</td>\n",
              "      <td>[[[0.0], [0.0], [0.0], [0.0], [0.0], [0.0], [0...</td>\n",
              "    </tr>\n",
              "    <tr>\n",
              "      <th>2</th>\n",
              "      <td>Normal/Normal-3461.png</td>\n",
              "      <td>Negative</td>\n",
              "      <td>/tmp/Covid-non_Covid-dataset-main/Data/Normal/...</td>\n",
              "      <td>[[[0.9294117647058824], [0.9254901960784314], ...</td>\n",
              "    </tr>\n",
              "    <tr>\n",
              "      <th>3</th>\n",
              "      <td>Normal/Normal-6656.png</td>\n",
              "      <td>Negative</td>\n",
              "      <td>/tmp/Covid-non_Covid-dataset-main/Data/Normal/...</td>\n",
              "      <td>[[[0.06666666666666667], [0.10588235294117647]...</td>\n",
              "    </tr>\n",
              "    <tr>\n",
              "      <th>4</th>\n",
              "      <td>Normal/Normal-8120.png</td>\n",
              "      <td>Negative</td>\n",
              "      <td>/tmp/Covid-non_Covid-dataset-main/Data/Normal/...</td>\n",
              "      <td>[[[0.00784313725490196], [0.011764705882352941...</td>\n",
              "    </tr>\n",
              "  </tbody>\n",
              "</table>\n",
              "</div>\n",
              "      <button class=\"colab-df-convert\" onclick=\"convertToInteractive('df-6ba49737-41c0-4118-a31d-4cf47f1f7912')\"\n",
              "              title=\"Convert this dataframe to an interactive table.\"\n",
              "              style=\"display:none;\">\n",
              "        \n",
              "  <svg xmlns=\"http://www.w3.org/2000/svg\" height=\"24px\"viewBox=\"0 0 24 24\"\n",
              "       width=\"24px\">\n",
              "    <path d=\"M0 0h24v24H0V0z\" fill=\"none\"/>\n",
              "    <path d=\"M18.56 5.44l.94 2.06.94-2.06 2.06-.94-2.06-.94-.94-2.06-.94 2.06-2.06.94zm-11 1L8.5 8.5l.94-2.06 2.06-.94-2.06-.94L8.5 2.5l-.94 2.06-2.06.94zm10 10l.94 2.06.94-2.06 2.06-.94-2.06-.94-.94-2.06-.94 2.06-2.06.94z\"/><path d=\"M17.41 7.96l-1.37-1.37c-.4-.4-.92-.59-1.43-.59-.52 0-1.04.2-1.43.59L10.3 9.45l-7.72 7.72c-.78.78-.78 2.05 0 2.83L4 21.41c.39.39.9.59 1.41.59.51 0 1.02-.2 1.41-.59l7.78-7.78 2.81-2.81c.8-.78.8-2.07 0-2.86zM5.41 20L4 18.59l7.72-7.72 1.47 1.35L5.41 20z\"/>\n",
              "  </svg>\n",
              "      </button>\n",
              "      \n",
              "  <style>\n",
              "    .colab-df-container {\n",
              "      display:flex;\n",
              "      flex-wrap:wrap;\n",
              "      gap: 12px;\n",
              "    }\n",
              "\n",
              "    .colab-df-convert {\n",
              "      background-color: #E8F0FE;\n",
              "      border: none;\n",
              "      border-radius: 50%;\n",
              "      cursor: pointer;\n",
              "      display: none;\n",
              "      fill: #1967D2;\n",
              "      height: 32px;\n",
              "      padding: 0 0 0 0;\n",
              "      width: 32px;\n",
              "    }\n",
              "\n",
              "    .colab-df-convert:hover {\n",
              "      background-color: #E2EBFA;\n",
              "      box-shadow: 0px 1px 2px rgba(60, 64, 67, 0.3), 0px 1px 3px 1px rgba(60, 64, 67, 0.15);\n",
              "      fill: #174EA6;\n",
              "    }\n",
              "\n",
              "    [theme=dark] .colab-df-convert {\n",
              "      background-color: #3B4455;\n",
              "      fill: #D2E3FC;\n",
              "    }\n",
              "\n",
              "    [theme=dark] .colab-df-convert:hover {\n",
              "      background-color: #434B5C;\n",
              "      box-shadow: 0px 1px 3px 1px rgba(0, 0, 0, 0.15);\n",
              "      filter: drop-shadow(0px 1px 2px rgba(0, 0, 0, 0.3));\n",
              "      fill: #FFFFFF;\n",
              "    }\n",
              "  </style>\n",
              "\n",
              "      <script>\n",
              "        const buttonEl =\n",
              "          document.querySelector('#df-6ba49737-41c0-4118-a31d-4cf47f1f7912 button.colab-df-convert');\n",
              "        buttonEl.style.display =\n",
              "          google.colab.kernel.accessAllowed ? 'block' : 'none';\n",
              "\n",
              "        async function convertToInteractive(key) {\n",
              "          const element = document.querySelector('#df-6ba49737-41c0-4118-a31d-4cf47f1f7912');\n",
              "          const dataTable =\n",
              "            await google.colab.kernel.invokeFunction('convertToInteractive',\n",
              "                                                     [key], {});\n",
              "          if (!dataTable) return;\n",
              "\n",
              "          const docLinkHtml = 'Like what you see? Visit the ' +\n",
              "            '<a target=\"_blank\" href=https://colab.research.google.com/notebooks/data_table.ipynb>data table notebook</a>'\n",
              "            + ' to learn more about interactive tables.';\n",
              "          element.innerHTML = '';\n",
              "          dataTable['output_type'] = 'display_data';\n",
              "          await google.colab.output.renderOutput(dataTable, element);\n",
              "          const docLink = document.createElement('div');\n",
              "          docLink.innerHTML = docLinkHtml;\n",
              "          element.appendChild(docLink);\n",
              "        }\n",
              "      </script>\n",
              "    </div>\n",
              "  </div>\n",
              "  "
            ]
          },
          "metadata": {},
          "execution_count": 6
        }
      ]
    },
    {
      "cell_type": "code",
      "source": [
        "plt.imshow(data['image'][10].reshape(75,75),cmap='gray')\n",
        "print(data['corona_result'][10])"
      ],
      "metadata": {
        "colab": {
          "base_uri": "https://localhost:8080/",
          "height": 285
        },
        "id": "PILnZgYrvUGT",
        "outputId": "46d6357a-1581-4cf2-8066-370abdc8aa2d"
      },
      "execution_count": null,
      "outputs": [
        {
          "output_type": "stream",
          "name": "stdout",
          "text": [
            "Negative\n"
          ]
        },
        {
          "output_type": "display_data",
          "data": {
            "text/plain": [
              "<Figure size 432x288 with 1 Axes>"
            ],
            "image/png": "[encoded data removed]"
          },
          "metadata": {
            "needs_background": "light"
          }
        }
      ]
    },
    {
      "cell_type": "markdown",
      "source": [
        "## Membuat Model"
      ],
      "metadata": {
        "id": "XhYTnPPVwfa6"
      }
    },
    {
      "cell_type": "code",
      "source": [
        "all_data=[]\n",
        "for i in range (len(data)):\n",
        "    y=1\n",
        "    if data['corona_result'][i]== 'Negative':\n",
        "        y=0\n",
        "    \n",
        "    all_data.append([data['image'][i],y])"
      ],
      "metadata": {
        "id": "NQHsoWRcyDQB"
      },
      "execution_count": null,
      "outputs": []
    },
    {
      "cell_type": "code",
      "source": [
        "x = []\n",
        "y = []\n",
        "for image, label in all_data:\n",
        "    x.append(image)\n",
        "    y.append(label)\n",
        "\n",
        "x = np.array(x)\n",
        "y = np.array(y)"
      ],
      "metadata": {
        "id": "mkCDkOViyHdM"
      },
      "execution_count": null,
      "outputs": []
    },
    {
      "cell_type": "code",
      "source": [
        "\n",
        "\n",
        "# 70% of data is training data, set aside other 30%\n",
        "x_train, x_OTHER, y_train, y_OTHER = train_test_split(x, y, test_size=0.3, random_state=101)\n",
        "\n",
        "# Remaining 30% is split into evaluation and test sets\n",
        "# Each is 15% of the original data size\n",
        "x_eval, x_test, y_eval, y_test = train_test_split(x_OTHER, y_OTHER, test_size=0.5, random_state=101)\n",
        "\n",
        "print(x_train.shape, x_test.shape, x_eval.shape, y_train.shape, y_test.shape, y_eval.shape)\n",
        "\n"
      ],
      "metadata": {
        "colab": {
          "base_uri": "https://localhost:8080/"
        },
        "id": "m9iX1ll0x928",
        "outputId": "ad0db130-0e7c-4853-a9ef-68278cbe5ef2"
      },
      "execution_count": null,
      "outputs": [
        {
          "output_type": "stream",
          "name": "stdout",
          "text": [
            "(9665, 75, 75, 1) (2072, 75, 75, 1) (2071, 75, 75, 1) (9665,) (2072,) (2071,)\n"
          ]
        }
      ]
    },
    {
      "cell_type": "code",
      "source": [
        "def kel5net(): #proposed model\n",
        "    return tf.keras.models.Sequential([\n",
        "        tf.keras.layers.Conv2D(filters=32, kernel_size=3, activation='relu',\n",
        "                               padding='same', input_shape=(75,75,1)),\n",
        "        tf.keras.layers.MaxPool2D(pool_size=2, strides=2),\n",
        "        tf.keras.layers.Conv2D(filters=32, kernel_size=3,\n",
        "                               activation='relu', padding='same'),\n",
        "        tf.keras.layers.MaxPool2D(pool_size=2, strides=2),\n",
        "        tf.keras.layers.Dropout(0.2),\n",
        "        tf.keras.layers.Flatten(),\n",
        "        tf.keras.layers.Dense(64, activation='relu'),\n",
        "        tf.keras.layers.Dropout(0.2),\n",
        "        tf.keras.layers.Dense(2,activation='sigmoid')])\n",
        "    \n",
        "\n",
        "net=kel5net()\n",
        "net.summary()"
      ],
      "metadata": {
        "colab": {
          "base_uri": "https://localhost:8080/"
        },
        "id": "t_vn_bzjwVhn",
        "outputId": "fe708631-2e9f-49d8-f41f-2770b7dc89b4"
      },
      "execution_count": null,
      "outputs": [
        {
          "output_type": "stream",
          "name": "stdout",
          "text": [
            "Model: \"sequential\"\n",
            "_________________________________________________________________\n",
            " Layer (type)                Output Shape              Param #   \n",
            "=================================================================\n",
            " conv2d (Conv2D)             (None, 75, 75, 32)        320       \n",
            "                                                                 \n",
            " max_pooling2d (MaxPooling2D  (None, 37, 37, 32)       0         \n",
            " )                                                               \n",
            "                                                                 \n",
            " conv2d_1 (Conv2D)           (None, 37, 37, 32)        9248      \n",
            "                                                                 \n",
            " max_pooling2d_1 (MaxPooling  (None, 18, 18, 32)       0         \n",
            " 2D)                                                             \n",
            "                                                                 \n",
            " dropout (Dropout)           (None, 18, 18, 32)        0         \n",
            "                                                                 \n",
            " flatten (Flatten)           (None, 10368)             0         \n",
            "                                                                 \n",
            " dense (Dense)               (None, 64)                663616    \n",
            "                                                                 \n",
            " dropout_1 (Dropout)         (None, 64)                0         \n",
            "                                                                 \n",
            " dense_1 (Dense)             (None, 2)                 130       \n",
            "                                                                 \n",
            "=================================================================\n",
            "Total params: 673,314\n",
            "Trainable params: 673,314\n",
            "Non-trainable params: 0\n",
            "_________________________________________________________________\n"
          ]
        }
      ]
    },
    {
      "cell_type": "code",
      "source": [
        "test_input = tf.random.uniform((1, 75, 75, 1))\n",
        "print(net(test_input))"
      ],
      "metadata": {
        "colab": {
          "base_uri": "https://localhost:8080/"
        },
        "id": "kZp2Mm9WxbxK",
        "outputId": "92e8aa52-19af-4f66-a52a-487cfbf9de0c"
      },
      "execution_count": null,
      "outputs": [
        {
          "output_type": "stream",
          "name": "stdout",
          "text": [
            "tf.Tensor([[0.5222938 0.5249571]], shape=(1, 2), dtype=float32)\n"
          ]
        }
      ]
    },
    {
      "cell_type": "code",
      "source": [
        "net.compile(optimizer = 'adam', \n",
        "           loss = tf.keras.losses.SparseCategoricalCrossentropy(from_logits = False), \n",
        "           metrics = ['accuracy'])\n",
        "\n",
        "es = tf.keras.callbacks.EarlyStopping(monitor = 'val_loss', mode = 'min', verbose = 1, patience = 4)\n",
        "\n",
        "\n",
        "\n",
        "\n",
        "model= net.fit(x_train, y_train, \n",
        "                        epochs = 50,\n",
        "                        validation_data = (x_eval, y_eval),\n",
        "                        batch_size=256,\n",
        "                        callbacks=[es]\n",
        "                        )"
      ],
      "metadata": {
        "colab": {
          "base_uri": "https://localhost:8080/"
        },
        "id": "IClUaovtys8Z",
        "outputId": "97611bac-d75a-4253-9449-c99959100e39"
      },
      "execution_count": null,
      "outputs": [
        {
          "output_type": "stream",
          "name": "stdout",
          "text": [
            "Epoch 1/50\n",
            "38/38 [==============================] - 4s 55ms/step - loss: 0.6225 - accuracy: 0.7133 - val_loss: 0.5057 - val_accuracy: 0.7359\n",
            "Epoch 2/50\n",
            "38/38 [==============================] - 1s 38ms/step - loss: 0.4671 - accuracy: 0.7641 - val_loss: 0.4146 - val_accuracy: 0.8151\n",
            "Epoch 3/50\n",
            "38/38 [==============================] - 1s 38ms/step - loss: 0.3963 - accuracy: 0.8098 - val_loss: 0.3701 - val_accuracy: 0.8291\n",
            "Epoch 4/50\n",
            "38/38 [==============================] - 1s 38ms/step - loss: 0.3507 - accuracy: 0.8357 - val_loss: 0.3212 - val_accuracy: 0.8624\n",
            "Epoch 5/50\n",
            "38/38 [==============================] - 2s 42ms/step - loss: 0.3232 - accuracy: 0.8514 - val_loss: 0.3143 - val_accuracy: 0.8619\n",
            "Epoch 6/50\n",
            "38/38 [==============================] - 1s 38ms/step - loss: 0.2970 - accuracy: 0.8678 - val_loss: 0.2807 - val_accuracy: 0.8914\n",
            "Epoch 7/50\n",
            "38/38 [==============================] - 1s 38ms/step - loss: 0.2743 - accuracy: 0.8848 - val_loss: 0.2690 - val_accuracy: 0.8909\n",
            "Epoch 8/50\n",
            "38/38 [==============================] - 1s 38ms/step - loss: 0.2611 - accuracy: 0.8904 - val_loss: 0.2552 - val_accuracy: 0.8957\n",
            "Epoch 9/50\n",
            "38/38 [==============================] - 1s 38ms/step - loss: 0.2424 - accuracy: 0.8994 - val_loss: 0.2388 - val_accuracy: 0.9092\n",
            "Epoch 10/50\n",
            "38/38 [==============================] - 1s 38ms/step - loss: 0.2370 - accuracy: 0.9024 - val_loss: 0.2324 - val_accuracy: 0.9073\n",
            "Epoch 11/50\n",
            "38/38 [==============================] - 1s 38ms/step - loss: 0.2331 - accuracy: 0.9058 - val_loss: 0.2555 - val_accuracy: 0.8962\n",
            "Epoch 12/50\n",
            "38/38 [==============================] - 1s 38ms/step - loss: 0.2217 - accuracy: 0.9087 - val_loss: 0.2263 - val_accuracy: 0.9116\n",
            "Epoch 13/50\n",
            "38/38 [==============================] - 1s 38ms/step - loss: 0.2060 - accuracy: 0.9198 - val_loss: 0.2062 - val_accuracy: 0.9189\n",
            "Epoch 14/50\n",
            "38/38 [==============================] - 1s 38ms/step - loss: 0.1948 - accuracy: 0.9262 - val_loss: 0.2010 - val_accuracy: 0.9276\n",
            "Epoch 15/50\n",
            "38/38 [==============================] - 1s 38ms/step - loss: 0.1849 - accuracy: 0.9276 - val_loss: 0.1877 - val_accuracy: 0.9329\n",
            "Epoch 16/50\n",
            "38/38 [==============================] - 1s 39ms/step - loss: 0.1780 - accuracy: 0.9332 - val_loss: 0.1853 - val_accuracy: 0.9237\n",
            "Epoch 17/50\n",
            "38/38 [==============================] - 1s 39ms/step - loss: 0.1700 - accuracy: 0.9348 - val_loss: 0.1775 - val_accuracy: 0.9285\n",
            "Epoch 18/50\n",
            "38/38 [==============================] - 1s 38ms/step - loss: 0.1772 - accuracy: 0.9300 - val_loss: 0.1871 - val_accuracy: 0.9319\n",
            "Epoch 19/50\n",
            "38/38 [==============================] - 1s 39ms/step - loss: 0.1621 - accuracy: 0.9367 - val_loss: 0.1781 - val_accuracy: 0.9348\n",
            "Epoch 20/50\n",
            "38/38 [==============================] - 1s 39ms/step - loss: 0.1547 - accuracy: 0.9428 - val_loss: 0.1808 - val_accuracy: 0.9363\n",
            "Epoch 21/50\n",
            "38/38 [==============================] - 1s 39ms/step - loss: 0.1448 - accuracy: 0.9487 - val_loss: 0.1679 - val_accuracy: 0.9401\n",
            "Epoch 22/50\n",
            "38/38 [==============================] - 1s 39ms/step - loss: 0.1403 - accuracy: 0.9486 - val_loss: 0.1553 - val_accuracy: 0.9396\n",
            "Epoch 23/50\n",
            "38/38 [==============================] - 1s 39ms/step - loss: 0.1356 - accuracy: 0.9528 - val_loss: 0.1616 - val_accuracy: 0.9377\n",
            "Epoch 24/50\n",
            "38/38 [==============================] - 1s 39ms/step - loss: 0.1313 - accuracy: 0.9535 - val_loss: 0.1702 - val_accuracy: 0.9411\n",
            "Epoch 25/50\n",
            "38/38 [==============================] - 1s 39ms/step - loss: 0.1262 - accuracy: 0.9552 - val_loss: 0.1703 - val_accuracy: 0.9454\n",
            "Epoch 26/50\n",
            "38/38 [==============================] - 1s 39ms/step - loss: 0.1162 - accuracy: 0.9619 - val_loss: 0.1493 - val_accuracy: 0.9483\n",
            "Epoch 27/50\n",
            "38/38 [==============================] - 1s 39ms/step - loss: 0.1130 - accuracy: 0.9609 - val_loss: 0.1710 - val_accuracy: 0.9435\n",
            "Epoch 28/50\n",
            "38/38 [==============================] - 2s 40ms/step - loss: 0.1141 - accuracy: 0.9594 - val_loss: 0.1484 - val_accuracy: 0.9440\n",
            "Epoch 29/50\n",
            "38/38 [==============================] - 2s 40ms/step - loss: 0.1028 - accuracy: 0.9656 - val_loss: 0.1404 - val_accuracy: 0.9532\n",
            "Epoch 30/50\n",
            "38/38 [==============================] - 2s 40ms/step - loss: 0.1011 - accuracy: 0.9693 - val_loss: 0.1466 - val_accuracy: 0.9503\n",
            "Epoch 31/50\n",
            "38/38 [==============================] - 2s 40ms/step - loss: 0.1004 - accuracy: 0.9665 - val_loss: 0.1406 - val_accuracy: 0.9503\n",
            "Epoch 32/50\n",
            "38/38 [==============================] - 1s 39ms/step - loss: 0.0917 - accuracy: 0.9700 - val_loss: 0.1380 - val_accuracy: 0.9546\n",
            "Epoch 33/50\n",
            "38/38 [==============================] - 2s 40ms/step - loss: 0.0880 - accuracy: 0.9733 - val_loss: 0.1662 - val_accuracy: 0.9479\n",
            "Epoch 34/50\n",
            "38/38 [==============================] - 1s 39ms/step - loss: 0.0833 - accuracy: 0.9743 - val_loss: 0.1559 - val_accuracy: 0.9536\n",
            "Epoch 35/50\n",
            "38/38 [==============================] - 2s 49ms/step - loss: 0.0893 - accuracy: 0.9695 - val_loss: 0.1450 - val_accuracy: 0.9488\n",
            "Epoch 36/50\n",
            "38/38 [==============================] - 2s 41ms/step - loss: 0.0773 - accuracy: 0.9777 - val_loss: 0.1446 - val_accuracy: 0.9536\n",
            "Epoch 36: early stopping\n"
          ]
        }
      ]
    },
    {
      "cell_type": "markdown",
      "source": [
        "## Performance Analysis"
      ],
      "metadata": {
        "id": "GZdvaoDU1dOK"
      }
    },
    {
      "cell_type": "code",
      "source": [
        "# Summarize History for Accuracy\n",
        "\n",
        "plt.plot(model.history['accuracy'])\n",
        "plt.plot(model.history['val_accuracy'])\n",
        "plt.title('Model Accuracy')\n",
        "plt.ylabel('Accuracy')\n",
        "plt.xlabel('Epoch')\n",
        "plt.legend(['Train', 'Validation'], loc = 'lower right')\n",
        "plt.show()"
      ],
      "metadata": {
        "colab": {
          "base_uri": "https://localhost:8080/",
          "height": 295
        },
        "id": "lbrz83Ki0lWW",
        "outputId": "f8277b74-a5f2-40c9-eb27-6609d722d9f1"
      },
      "execution_count": 18,
      "outputs": [
        {
          "output_type": "display_data",
          "data": {
            "text/plain": [
              "<Figure size 432x288 with 1 Axes>"
            ],
            "image/png": "[encoded data removed]"
          },
          "metadata": {
            "needs_background": "light"
          }
        }
      ]
    },
    {
      "cell_type": "code",
      "source": [
        "# Summarize History for Loss\n",
        "\n",
        "plt.plot(model.history['loss'])\n",
        "plt.plot(model.history['val_loss'])\n",
        "plt.title('Model Loss')\n",
        "plt.ylabel('Loss')\n",
        "plt.xlabel('Epoch')\n",
        "plt.legend(['Train', 'Validation'], loc = 'upper right')\n",
        "plt.show()"
      ],
      "metadata": {
        "colab": {
          "base_uri": "https://localhost:8080/",
          "height": 295
        },
        "id": "QgVPaHcR1niT",
        "outputId": "eb4e8d78-b402-455a-f22f-ab8c13eac87e"
      },
      "execution_count": 19,
      "outputs": [
        {
          "output_type": "display_data",
          "data": {
            "text/plain": [
              "<Figure size 432x288 with 1 Axes>"
            ],
            "image/png": "[encoded data removed]"
          },
          "metadata": {
            "needs_background": "light"
          }
        }
      ]
    },
    {
      "cell_type": "code",
      "source": [
        "# Accuracy Loss Graph\n",
        "\n",
        "pd.DataFrame(model.history).plot()\n",
        "plt.title('Model Accuracy/Loss')\n",
        "plt.ylabel('Accuracy/Loss')\n",
        "plt.xlabel('Epoch')\n",
        "plt.show()"
      ],
      "metadata": {
        "colab": {
          "base_uri": "https://localhost:8080/",
          "height": 295
        },
        "id": "tTKw70qy3-qe",
        "outputId": "29689c3d-42b7-4f18-93a1-4b2c0e846a5f"
      },
      "execution_count": 34,
      "outputs": [
        {
          "output_type": "display_data",
          "data": {
            "text/plain": [
              "<Figure size 432x288 with 1 Axes>"
            ],
            "image/png": "[encoded data removed]"
          },
          "metadata": {
            "needs_background": "light"
          }
        }
      ]
    },
    {
      "cell_type": "code",
      "source": [
        "from sklearn.metrics import confusion_matrix, ConfusionMatrixDisplay, classification_report, recall_score, accuracy_score, precision_score, f1_score"
      ],
      "metadata": {
        "id": "dD9xP9XA2kPZ"
      },
      "execution_count": 22,
      "outputs": []
    },
    {
      "cell_type": "code",
      "source": [
        "def report_model(model,x_test,y_test):\n",
        "  yp_test = model.predict(x_test)\n",
        "  yp_test = np.argmax(yp_test, axis = 1)\n",
        "  cm=confusion_matrix(yp_test,y_test)\n",
        "  cm= ConfusionMatrixDisplay(cm)\n",
        "  cm.plot()\n",
        "  print(classification_report(y_test, yp_test))\n"
      ],
      "metadata": {
        "id": "DBEn0aH41unU"
      },
      "execution_count": 25,
      "outputs": []
    },
    {
      "cell_type": "code",
      "source": [
        "print(\"\\nClassification Report for Test Data\\n\")\n",
        "report_model(net,x_test,y_test) "
      ],
      "metadata": {
        "colab": {
          "base_uri": "https://localhost:8080/",
          "height": 487
        },
        "id": "FvouDcMf2Xkw",
        "outputId": "653da542-b477-4f76-ca53-3910c8805d6c"
      },
      "execution_count": 30,
      "outputs": [
        {
          "output_type": "stream",
          "name": "stdout",
          "text": [
            "\n",
            "Classification Report for Test Data\n",
            "\n",
            "              precision    recall  f1-score   support\n",
            "\n",
            "           0       0.97      0.97      0.97      1536\n",
            "           1       0.92      0.92      0.92       536\n",
            "\n",
            "    accuracy                           0.96      2072\n",
            "   macro avg       0.95      0.94      0.94      2072\n",
            "weighted avg       0.96      0.96      0.96      2072\n",
            "\n"
          ]
        },
        {
          "output_type": "display_data",
          "data": {
            "text/plain": [
              "<Figure size 432x288 with 2 Axes>"
            ],
            "image/png": "[encoded data removed]"
          },
          "metadata": {
            "needs_background": "light"
          }
        }
      ]
    },
    {
      "cell_type": "code",
      "source": [
        "  print(\"\\nClassification Report for Validation data \\n\")\n",
        "report_model(net,x_eval,y_eval)"
      ],
      "metadata": {
        "colab": {
          "base_uri": "https://localhost:8080/",
          "height": 435
        },
        "id": "b3ux27ys2dOP",
        "outputId": "893161ea-99a0-4427-feec-7bfac9312d63"
      },
      "execution_count": 29,
      "outputs": [
        {
          "output_type": "stream",
          "name": "stdout",
          "text": [
            "              precision    recall  f1-score   support\n",
            "\n",
            "           0       0.96      0.98      0.97      1524\n",
            "           1       0.93      0.89      0.91       547\n",
            "\n",
            "    accuracy                           0.95      2071\n",
            "   macro avg       0.95      0.93      0.94      2071\n",
            "weighted avg       0.95      0.95      0.95      2071\n",
            "\n"
          ]
        },
        {
          "output_type": "display_data",
          "data": {
            "text/plain": [
              "<Figure size 432x288 with 2 Axes>"
            ],
            "image/png": "[encoded data removed]"
          },
          "metadata": {
            "needs_background": "light"
          }
        }
      ]
    },
    {
      "cell_type": "code",
      "source": [
        "  print(\"\\nClassification Report for training data \\n\")\n",
        "report_model(net,x_train, y_train)"
      ],
      "metadata": {
        "colab": {
          "base_uri": "https://localhost:8080/",
          "height": 488
        },
        "id": "yQ3p6CW220gd",
        "outputId": "2cb1d8c8-d7d9-40c1-d2dd-cd2852b0ba0b"
      },
      "execution_count": 32,
      "outputs": [
        {
          "output_type": "stream",
          "name": "stdout",
          "text": [
            "\n",
            "Classification Report for training data \n",
            "\n",
            "              precision    recall  f1-score   support\n",
            "\n",
            "           0       0.99      1.00      0.99      7132\n",
            "           1       0.99      0.98      0.99      2533\n",
            "\n",
            "    accuracy                           0.99      9665\n",
            "   macro avg       0.99      0.99      0.99      9665\n",
            "weighted avg       0.99      0.99      0.99      9665\n",
            "\n"
          ]
        },
        {
          "output_type": "display_data",
          "data": {
            "text/plain": [
              "<Figure size 432x288 with 2 Axes>"
            ],
            "image/png": "[encoded data removed]"
          },
          "metadata": {
            "needs_background": "light"
          }
        }
      ]
    }
  ]
}