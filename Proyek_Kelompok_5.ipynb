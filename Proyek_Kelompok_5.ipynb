{
  "nbformat": 4,
  "nbformat_minor": 0,
  "metadata": {
    "colab": {
      "name": "Proyek_Kelompok_5.ipynb",
      "provenance": [],
      "collapsed_sections": [],
      "include_colab_link": true
    },
    "kernelspec": {
      "name": "python3",
      "display_name": "Python 3"
    },
    "language_info": {
      "name": "python"
    },
    "accelerator": "GPU"
  },
  "cells": [
    {
      "cell_type": "markdown",
      "metadata": {
        "id": "view-in-github",
        "colab_type": "text"
      },
      "source": [
        "<a href=\"https://colab.research.google.com/github/cxrles/Covid-non_Covid-dataset/blob/main/Proyek_Kelompok_5.ipynb\" target=\"_parent\"><img src=\"https://colab.research.google.com/assets/colab-badge.svg\" alt=\"Open In Colab\"/></a>"
      ]
    },
    {
      "cell_type": "markdown",
      "source": [
        "# Notebook Pengerjaan proyek Kelompok 5\n",
        "Kami Menyarankan untuk membuka notebook ini dengan menggunakan google colab\n",
        "\n",
        "Untuk Mempercepat proses training nantinya gunakanlah GPU dalam prosesnya. Untuk mengaktifkannya lakukan:\n",
        "\n",
        "Edit>>Notebook settings >>Hardware accelerator:GPU\n"
      ],
      "metadata": {
        "id": "wGHYCmQXRq8X"
      }
    },
    {
      "cell_type": "markdown",
      "source": [
        "## Import Module standar yang akan digunakan"
      ],
      "metadata": {
        "id": "PcvE5rPhRq-H"
      }
    },
    {
      "cell_type": "code",
      "source": [
        "pip install scikit-learn==0.23.2"
      ],
      "metadata": {
        "colab": {
          "base_uri": "https://localhost:8080/"
        },
        "id": "Ze5ibEFuQRuz",
        "outputId": "99d89d37-b6ef-48fe-95f6-14843e90bd6a"
      },
      "execution_count": 1,
      "outputs": [
        {
          "output_type": "stream",
          "name": "stdout",
          "text": [
            "Looking in indexes: https://pypi.org/simple, https://us-python.pkg.dev/colab-wheels/public/simple/\n",
            "Requirement already satisfied: scikit-learn==0.23.2 in /usr/local/lib/python3.7/dist-packages (0.23.2)\n",
            "Requirement already satisfied: joblib>=0.11 in /usr/local/lib/python3.7/dist-packages (from scikit-learn==0.23.2) (1.1.0)\n",
            "Requirement already satisfied: scipy>=0.19.1 in /usr/local/lib/python3.7/dist-packages (from scikit-learn==0.23.2) (1.4.1)\n",
            "Requirement already satisfied: threadpoolctl>=2.0.0 in /usr/local/lib/python3.7/dist-packages (from scikit-learn==0.23.2) (3.1.0)\n",
            "Requirement already satisfied: numpy>=1.13.3 in /usr/local/lib/python3.7/dist-packages (from scikit-learn==0.23.2) (1.21.6)\n"
          ]
        }
      ]
    },
    {
      "cell_type": "code",
      "source": [
        "pip install keract "
      ],
      "metadata": {
        "colab": {
          "base_uri": "https://localhost:8080/"
        },
        "id": "20HBuXi4sAza",
        "outputId": "17eae1ab-d8b5-4538-fadb-356830b580e7"
      },
      "execution_count": 2,
      "outputs": [
        {
          "output_type": "stream",
          "name": "stdout",
          "text": [
            "Looking in indexes: https://pypi.org/simple, https://us-python.pkg.dev/colab-wheels/public/simple/\n",
            "Requirement already satisfied: keract in /usr/local/lib/python3.7/dist-packages (4.5.0)\n"
          ]
        }
      ]
    },
    {
      "cell_type": "code",
      "source": [
        "import tensorflow as tf\n",
        "import os\n",
        "import pandas as pd\n",
        "import matplotlib.image as mpimg\n",
        "import matplotlib.pyplot as plt\n",
        "import numpy as np\n",
        "from PIL import Image\n",
        "from sklearn.model_selection import train_test_split\n",
        "import seaborn as sns\n",
        "from keract import *"
      ],
      "metadata": {
        "id": "A5s0cdRhTG8L"
      },
      "execution_count": 3,
      "outputs": []
    },
    {
      "cell_type": "code",
      "source": [
        "from google.colab import drive\n",
        "drive.mount('/content/drive')"
      ],
      "metadata": {
        "colab": {
          "base_uri": "https://localhost:8080/"
        },
        "id": "ARqVVBWPh89a",
        "outputId": "20f74983-62b7-4763-899e-2404ed4394f2"
      },
      "execution_count": 4,
      "outputs": [
        {
          "output_type": "stream",
          "name": "stdout",
          "text": [
            "Drive already mounted at /content/drive; to attempt to forcibly remount, call drive.mount(\"/content/drive\", force_remount=True).\n"
          ]
        }
      ]
    },
    {
      "cell_type": "markdown",
      "source": [
        "## Mendapatkan data set"
      ],
      "metadata": {
        "id": "KPwzlHc1VERt"
      }
    },
    {
      "cell_type": "code",
      "source": [
        "import zipfile\n",
        "import os"
      ],
      "metadata": {
        "id": "00z2QSyNVAKu"
      },
      "execution_count": 5,
      "outputs": []
    },
    {
      "cell_type": "code",
      "source": [
        "\n",
        "!wget --no-check-certificate \\\n",
        "    \"https://github.com/cxrles/Covid-non_Covid-dataset/archive/refs/heads/main.zip\" \\\n",
        "    -O \"/tmp/Covid-non_Covid.zip\"\n",
        "\n",
        "\n",
        "zip_ref = zipfile.ZipFile(\"/tmp/Covid-non_Covid.zip\", 'r') #Opens the zip file in read mode\n",
        "zip_ref.extractall('/tmp') #Extracts the files into the /tmp folder\n",
        "zip_ref.close()"
      ],
      "metadata": {
        "colab": {
          "base_uri": "https://localhost:8080/"
        },
        "id": "VCPnPk1eUiM_",
        "outputId": "656a4fce-507b-4a74-fa42-5723026d5fed"
      },
      "execution_count": 6,
      "outputs": [
        {
          "output_type": "stream",
          "name": "stdout",
          "text": [
            "--2022-06-06 04:25:46--  https://github.com/cxrles/Covid-non_Covid-dataset/archive/refs/heads/main.zip\n",
            "Resolving github.com (github.com)... 20.205.243.166\n",
            "Connecting to github.com (github.com)|20.205.243.166|:443... connected.\n",
            "HTTP request sent, awaiting response... 302 Found\n",
            "Location: https://codeload.github.com/cxrles/Covid-non_Covid-dataset/zip/refs/heads/main [following]\n",
            "--2022-06-06 04:25:46--  https://codeload.github.com/cxrles/Covid-non_Covid-dataset/zip/refs/heads/main\n",
            "Resolving codeload.github.com (codeload.github.com)... 20.205.243.165\n",
            "Connecting to codeload.github.com (codeload.github.com)|20.205.243.165|:443... connected.\n",
            "HTTP request sent, awaiting response... 200 OK\n",
            "Length: unspecified [application/zip]\n",
            "Saving to: ‘/tmp/Covid-non_Covid.zip’\n",
            "\n",
            "/tmp/Covid-non_Covi     [            <=>     ] 488.60M  17.6MB/s    in 28s     \n",
            "\n",
            "2022-06-06 04:26:14 (17.5 MB/s) - ‘/tmp/Covid-non_Covid.zip’ saved [512337722]\n",
            "\n"
          ]
        }
      ]
    },
    {
      "cell_type": "markdown",
      "source": [
        "## meload semua path dari data"
      ],
      "metadata": {
        "id": "wZuMPbOKu2dz"
      }
    },
    {
      "cell_type": "code",
      "source": [
        "levels = ['Normal', 'COVID']\n",
        "path = \"/tmp/Covid-non_Covid-dataset-main/Data\"\n",
        "data_dir = os.path.join(path)\n",
        "\n",
        "data = []\n",
        "for id, level in enumerate(levels):\n",
        "    for file in os.listdir(os.path.join(data_dir, level)):\n",
        "        data.append(['{}/{}'.format(level, file), level])\n",
        "\n",
        "data = pd.DataFrame(data, columns = ['image_file', 'corona_result'])\n",
        "\n",
        "data['path'] = path  + \"/\" + data['image_file']\n",
        "data['corona_result'] = data['corona_result'].map({'Normal': 'Negative', 'COVID': 'Positive'})\n",
        "\n",
        "data.head()"
      ],
      "metadata": {
        "id": "W0eOEGxuX20v",
        "colab": {
          "base_uri": "https://localhost:8080/",
          "height": 206
        },
        "outputId": "8851da08-59da-4061-c1ca-b53878d7eadb"
      },
      "execution_count": 7,
      "outputs": [
        {
          "output_type": "execute_result",
          "data": {
            "text/plain": [
              "               image_file corona_result  \\\n",
              "0  Normal/Normal-8695.png      Negative   \n",
              "1   Normal/Normal-812.png      Negative   \n",
              "2  Normal/Normal-8817.png      Negative   \n",
              "3  Normal/Normal-8549.png      Negative   \n",
              "4  Normal/Normal-9211.png      Negative   \n",
              "\n",
              "                                                path  \n",
              "0  /tmp/Covid-non_Covid-dataset-main/Data/Normal/...  \n",
              "1  /tmp/Covid-non_Covid-dataset-main/Data/Normal/...  \n",
              "2  /tmp/Covid-non_Covid-dataset-main/Data/Normal/...  \n",
              "3  /tmp/Covid-non_Covid-dataset-main/Data/Normal/...  \n",
              "4  /tmp/Covid-non_Covid-dataset-main/Data/Normal/...  "
            ],
            "text/html": [
              "\n",
              "  <div id=\"df-b64cc1c9-5d90-447b-b7c8-8dd94a1ba7f4\">\n",
              "    <div class=\"colab-df-container\">\n",
              "      <div>\n",
              "<style scoped>\n",
              "    .dataframe tbody tr th:only-of-type {\n",
              "        vertical-align: middle;\n",
              "    }\n",
              "\n",
              "    .dataframe tbody tr th {\n",
              "        vertical-align: top;\n",
              "    }\n",
              "\n",
              "    .dataframe thead th {\n",
              "        text-align: right;\n",
              "    }\n",
              "</style>\n",
              "<table border=\"1\" class=\"dataframe\">\n",
              "  <thead>\n",
              "    <tr style=\"text-align: right;\">\n",
              "      <th></th>\n",
              "      <th>image_file</th>\n",
              "      <th>corona_result</th>\n",
              "      <th>path</th>\n",
              "    </tr>\n",
              "  </thead>\n",
              "  <tbody>\n",
              "    <tr>\n",
              "      <th>0</th>\n",
              "      <td>Normal/Normal-8695.png</td>\n",
              "      <td>Negative</td>\n",
              "      <td>/tmp/Covid-non_Covid-dataset-main/Data/Normal/...</td>\n",
              "    </tr>\n",
              "    <tr>\n",
              "      <th>1</th>\n",
              "      <td>Normal/Normal-812.png</td>\n",
              "      <td>Negative</td>\n",
              "      <td>/tmp/Covid-non_Covid-dataset-main/Data/Normal/...</td>\n",
              "    </tr>\n",
              "    <tr>\n",
              "      <th>2</th>\n",
              "      <td>Normal/Normal-8817.png</td>\n",
              "      <td>Negative</td>\n",
              "      <td>/tmp/Covid-non_Covid-dataset-main/Data/Normal/...</td>\n",
              "    </tr>\n",
              "    <tr>\n",
              "      <th>3</th>\n",
              "      <td>Normal/Normal-8549.png</td>\n",
              "      <td>Negative</td>\n",
              "      <td>/tmp/Covid-non_Covid-dataset-main/Data/Normal/...</td>\n",
              "    </tr>\n",
              "    <tr>\n",
              "      <th>4</th>\n",
              "      <td>Normal/Normal-9211.png</td>\n",
              "      <td>Negative</td>\n",
              "      <td>/tmp/Covid-non_Covid-dataset-main/Data/Normal/...</td>\n",
              "    </tr>\n",
              "  </tbody>\n",
              "</table>\n",
              "</div>\n",
              "      <button class=\"colab-df-convert\" onclick=\"convertToInteractive('df-b64cc1c9-5d90-447b-b7c8-8dd94a1ba7f4')\"\n",
              "              title=\"Convert this dataframe to an interactive table.\"\n",
              "              style=\"display:none;\">\n",
              "        \n",
              "  <svg xmlns=\"http://www.w3.org/2000/svg\" height=\"24px\"viewBox=\"0 0 24 24\"\n",
              "       width=\"24px\">\n",
              "    <path d=\"M0 0h24v24H0V0z\" fill=\"none\"/>\n",
              "    <path d=\"M18.56 5.44l.94 2.06.94-2.06 2.06-.94-2.06-.94-.94-2.06-.94 2.06-2.06.94zm-11 1L8.5 8.5l.94-2.06 2.06-.94-2.06-.94L8.5 2.5l-.94 2.06-2.06.94zm10 10l.94 2.06.94-2.06 2.06-.94-2.06-.94-.94-2.06-.94 2.06-2.06.94z\"/><path d=\"M17.41 7.96l-1.37-1.37c-.4-.4-.92-.59-1.43-.59-.52 0-1.04.2-1.43.59L10.3 9.45l-7.72 7.72c-.78.78-.78 2.05 0 2.83L4 21.41c.39.39.9.59 1.41.59.51 0 1.02-.2 1.41-.59l7.78-7.78 2.81-2.81c.8-.78.8-2.07 0-2.86zM5.41 20L4 18.59l7.72-7.72 1.47 1.35L5.41 20z\"/>\n",
              "  </svg>\n",
              "      </button>\n",
              "      \n",
              "  <style>\n",
              "    .colab-df-container {\n",
              "      display:flex;\n",
              "      flex-wrap:wrap;\n",
              "      gap: 12px;\n",
              "    }\n",
              "\n",
              "    .colab-df-convert {\n",
              "      background-color: #E8F0FE;\n",
              "      border: none;\n",
              "      border-radius: 50%;\n",
              "      cursor: pointer;\n",
              "      display: none;\n",
              "      fill: #1967D2;\n",
              "      height: 32px;\n",
              "      padding: 0 0 0 0;\n",
              "      width: 32px;\n",
              "    }\n",
              "\n",
              "    .colab-df-convert:hover {\n",
              "      background-color: #E2EBFA;\n",
              "      box-shadow: 0px 1px 2px rgba(60, 64, 67, 0.3), 0px 1px 3px 1px rgba(60, 64, 67, 0.15);\n",
              "      fill: #174EA6;\n",
              "    }\n",
              "\n",
              "    [theme=dark] .colab-df-convert {\n",
              "      background-color: #3B4455;\n",
              "      fill: #D2E3FC;\n",
              "    }\n",
              "\n",
              "    [theme=dark] .colab-df-convert:hover {\n",
              "      background-color: #434B5C;\n",
              "      box-shadow: 0px 1px 3px 1px rgba(0, 0, 0, 0.15);\n",
              "      filter: drop-shadow(0px 1px 2px rgba(0, 0, 0, 0.3));\n",
              "      fill: #FFFFFF;\n",
              "    }\n",
              "  </style>\n",
              "\n",
              "      <script>\n",
              "        const buttonEl =\n",
              "          document.querySelector('#df-b64cc1c9-5d90-447b-b7c8-8dd94a1ba7f4 button.colab-df-convert');\n",
              "        buttonEl.style.display =\n",
              "          google.colab.kernel.accessAllowed ? 'block' : 'none';\n",
              "\n",
              "        async function convertToInteractive(key) {\n",
              "          const element = document.querySelector('#df-b64cc1c9-5d90-447b-b7c8-8dd94a1ba7f4');\n",
              "          const dataTable =\n",
              "            await google.colab.kernel.invokeFunction('convertToInteractive',\n",
              "                                                     [key], {});\n",
              "          if (!dataTable) return;\n",
              "\n",
              "          const docLinkHtml = 'Like what you see? Visit the ' +\n",
              "            '<a target=\"_blank\" href=https://colab.research.google.com/notebooks/data_table.ipynb>data table notebook</a>'\n",
              "            + ' to learn more about interactive tables.';\n",
              "          element.innerHTML = '';\n",
              "          dataTable['output_type'] = 'display_data';\n",
              "          await google.colab.output.renderOutput(dataTable, element);\n",
              "          const docLink = document.createElement('div');\n",
              "          docLink.innerHTML = docLinkHtml;\n",
              "          element.appendChild(docLink);\n",
              "        }\n",
              "      </script>\n",
              "    </div>\n",
              "  </div>\n",
              "  "
            ]
          },
          "metadata": {},
          "execution_count": 7
        }
      ]
    },
    {
      "cell_type": "code",
      "source": [
        "data.shape"
      ],
      "metadata": {
        "colab": {
          "base_uri": "https://localhost:8080/"
        },
        "id": "Z70pRArIvq5p",
        "outputId": "f27f3f81-bdc7-41e3-c263-72c169283ccd"
      },
      "execution_count": 8,
      "outputs": [
        {
          "output_type": "execute_result",
          "data": {
            "text/plain": [
              "(13808, 3)"
            ]
          },
          "metadata": {},
          "execution_count": 8
        }
      ]
    },
    {
      "cell_type": "markdown",
      "source": [
        "## Preprocessing data"
      ],
      "metadata": {
        "id": "4X5JBcOmvRkV"
      }
    },
    {
      "cell_type": "code",
      "source": [
        "sns.countplot(data['corona_result']) #distribusi data\n",
        "data['corona_result'].value_counts()"
      ],
      "metadata": {
        "colab": {
          "base_uri": "https://localhost:8080/",
          "height": 387
        },
        "id": "_Gl3b0Oo9FVK",
        "outputId": "4f7594bb-0d07-449d-8a4e-3153a4569697"
      },
      "execution_count": 9,
      "outputs": [
        {
          "output_type": "stream",
          "name": "stderr",
          "text": [
            "/usr/local/lib/python3.7/dist-packages/seaborn/_decorators.py:43: FutureWarning: Pass the following variable as a keyword arg: x. From version 0.12, the only valid positional argument will be `data`, and passing other arguments without an explicit keyword will result in an error or misinterpretation.\n",
            "  FutureWarning\n"
          ]
        },
        {
          "output_type": "execute_result",
          "data": {
            "text/plain": [
              "Negative    10192\n",
              "Positive     3616\n",
              "Name: corona_result, dtype: int64"
            ]
          },
          "metadata": {},
          "execution_count": 9
        },
        {
          "output_type": "display_data",
          "data": {
            "text/plain": [
              "<Figure size 432x288 with 1 Axes>"
            ],
            "image/png": "[encoded data removed]"
          },
          "metadata": {
            "needs_background": "light"
          }
        }
      ]
    },
    {
      "cell_type": "code",
      "source": [
        "negative_cases= data[data['corona_result']== 'Negative']\n",
        "positive_cases= data[data['corona_result']== 'Positive']\n",
        "#downsampling\n",
        "from sklearn.utils import resample\n",
        "downsample = resample(negative_cases,\n",
        "             replace=True,\n",
        "             n_samples=len(positive_cases),\n",
        "             random_state=42)\n",
        "\n",
        "print(downsample.shape)\n",
        "data= pd.concat([downsample,positive_cases])\n",
        "\n",
        "data=data.reset_index()\n",
        "data=data.drop('index', axis=1)"
      ],
      "metadata": {
        "colab": {
          "base_uri": "https://localhost:8080/"
        },
        "id": "3OUF8NVv9tEi",
        "outputId": "4f028d87-a1d7-41fd-c4a9-7740fd2494bb"
      },
      "execution_count": 10,
      "outputs": [
        {
          "output_type": "stream",
          "name": "stdout",
          "text": [
            "(3616, 3)\n"
          ]
        }
      ]
    },
    {
      "cell_type": "code",
      "source": [
        "sns.countplot(data['corona_result']) #distribusi data\n",
        "data['corona_result'].value_counts()"
      ],
      "metadata": {
        "colab": {
          "base_uri": "https://localhost:8080/",
          "height": 387
        },
        "id": "5HnPiCdBOpej",
        "outputId": "4717c5fd-e11c-4a59-b8ea-8b9a1516d0f0"
      },
      "execution_count": 11,
      "outputs": [
        {
          "output_type": "stream",
          "name": "stderr",
          "text": [
            "/usr/local/lib/python3.7/dist-packages/seaborn/_decorators.py:43: FutureWarning: Pass the following variable as a keyword arg: x. From version 0.12, the only valid positional argument will be `data`, and passing other arguments without an explicit keyword will result in an error or misinterpretation.\n",
            "  FutureWarning\n"
          ]
        },
        {
          "output_type": "execute_result",
          "data": {
            "text/plain": [
              "Negative    3616\n",
              "Positive    3616\n",
              "Name: corona_result, dtype: int64"
            ]
          },
          "metadata": {},
          "execution_count": 11
        },
        {
          "output_type": "display_data",
          "data": {
            "text/plain": [
              "<Figure size 432x288 with 1 Axes>"
            ],
            "image/png": "[encoded data removed]"
          },
          "metadata": {
            "needs_background": "light"
          }
        }
      ]
    },
    {
      "cell_type": "code",
      "source": [
        "data['image'] = data['path'].map(lambda x: np.asarray(Image.open(x)))\n",
        "data['image']= data['image'].map(lambda x: x.reshape(299,299,1))\n",
        "\n",
        "data.head()"
      ],
      "metadata": {
        "colab": {
          "base_uri": "https://localhost:8080/",
          "height": 206
        },
        "id": "aOr2OHxEvIQZ",
        "outputId": "4a946886-492f-4b77-aa2d-d5802ba532a4"
      },
      "execution_count": 12,
      "outputs": [
        {
          "output_type": "execute_result",
          "data": {
            "text/plain": [
              "               image_file corona_result  \\\n",
              "0  Normal/Normal-8124.png      Negative   \n",
              "1  Normal/Normal-6481.png      Negative   \n",
              "2  Normal/Normal-8814.png      Negative   \n",
              "3  Normal/Normal-8959.png      Negative   \n",
              "4  Normal/Normal-9531.png      Negative   \n",
              "\n",
              "                                                path  \\\n",
              "0  /tmp/Covid-non_Covid-dataset-main/Data/Normal/...   \n",
              "1  /tmp/Covid-non_Covid-dataset-main/Data/Normal/...   \n",
              "2  /tmp/Covid-non_Covid-dataset-main/Data/Normal/...   \n",
              "3  /tmp/Covid-non_Covid-dataset-main/Data/Normal/...   \n",
              "4  /tmp/Covid-non_Covid-dataset-main/Data/Normal/...   \n",
              "\n",
              "                                               image  \n",
              "0  [[[6], [5], [4], [4], [3], [2], [2], [2], [2],...  \n",
              "1  [[[238], [219], [198], [181], [170], [161], [1...  \n",
              "2  [[[131], [124], [96], [54], [17], [2], [0], [0...  \n",
              "3  [[[22], [21], [21], [20], [18], [17], [17], [1...  \n",
              "4  [[[7], [7], [7], [7], [7], [7], [6], [7], [7],...  "
            ],
            "text/html": [
              "\n",
              "  <div id=\"df-9c62220b-563e-425e-bd8c-8adb42a43c1c\">\n",
              "    <div class=\"colab-df-container\">\n",
              "      <div>\n",
              "<style scoped>\n",
              "    .dataframe tbody tr th:only-of-type {\n",
              "        vertical-align: middle;\n",
              "    }\n",
              "\n",
              "    .dataframe tbody tr th {\n",
              "        vertical-align: top;\n",
              "    }\n",
              "\n",
              "    .dataframe thead th {\n",
              "        text-align: right;\n",
              "    }\n",
              "</style>\n",
              "<table border=\"1\" class=\"dataframe\">\n",
              "  <thead>\n",
              "    <tr style=\"text-align: right;\">\n",
              "      <th></th>\n",
              "      <th>image_file</th>\n",
              "      <th>corona_result</th>\n",
              "      <th>path</th>\n",
              "      <th>image</th>\n",
              "    </tr>\n",
              "  </thead>\n",
              "  <tbody>\n",
              "    <tr>\n",
              "      <th>0</th>\n",
              "      <td>Normal/Normal-8124.png</td>\n",
              "      <td>Negative</td>\n",
              "      <td>/tmp/Covid-non_Covid-dataset-main/Data/Normal/...</td>\n",
              "      <td>[[[6], [5], [4], [4], [3], [2], [2], [2], [2],...</td>\n",
              "    </tr>\n",
              "    <tr>\n",
              "      <th>1</th>\n",
              "      <td>Normal/Normal-6481.png</td>\n",
              "      <td>Negative</td>\n",
              "      <td>/tmp/Covid-non_Covid-dataset-main/Data/Normal/...</td>\n",
              "      <td>[[[238], [219], [198], [181], [170], [161], [1...</td>\n",
              "    </tr>\n",
              "    <tr>\n",
              "      <th>2</th>\n",
              "      <td>Normal/Normal-8814.png</td>\n",
              "      <td>Negative</td>\n",
              "      <td>/tmp/Covid-non_Covid-dataset-main/Data/Normal/...</td>\n",
              "      <td>[[[131], [124], [96], [54], [17], [2], [0], [0...</td>\n",
              "    </tr>\n",
              "    <tr>\n",
              "      <th>3</th>\n",
              "      <td>Normal/Normal-8959.png</td>\n",
              "      <td>Negative</td>\n",
              "      <td>/tmp/Covid-non_Covid-dataset-main/Data/Normal/...</td>\n",
              "      <td>[[[22], [21], [21], [20], [18], [17], [17], [1...</td>\n",
              "    </tr>\n",
              "    <tr>\n",
              "      <th>4</th>\n",
              "      <td>Normal/Normal-9531.png</td>\n",
              "      <td>Negative</td>\n",
              "      <td>/tmp/Covid-non_Covid-dataset-main/Data/Normal/...</td>\n",
              "      <td>[[[7], [7], [7], [7], [7], [7], [6], [7], [7],...</td>\n",
              "    </tr>\n",
              "  </tbody>\n",
              "</table>\n",
              "</div>\n",
              "      <button class=\"colab-df-convert\" onclick=\"convertToInteractive('df-9c62220b-563e-425e-bd8c-8adb42a43c1c')\"\n",
              "              title=\"Convert this dataframe to an interactive table.\"\n",
              "              style=\"display:none;\">\n",
              "        \n",
              "  <svg xmlns=\"http://www.w3.org/2000/svg\" height=\"24px\"viewBox=\"0 0 24 24\"\n",
              "       width=\"24px\">\n",
              "    <path d=\"M0 0h24v24H0V0z\" fill=\"none\"/>\n",
              "    <path d=\"M18.56 5.44l.94 2.06.94-2.06 2.06-.94-2.06-.94-.94-2.06-.94 2.06-2.06.94zm-11 1L8.5 8.5l.94-2.06 2.06-.94-2.06-.94L8.5 2.5l-.94 2.06-2.06.94zm10 10l.94 2.06.94-2.06 2.06-.94-2.06-.94-.94-2.06-.94 2.06-2.06.94z\"/><path d=\"M17.41 7.96l-1.37-1.37c-.4-.4-.92-.59-1.43-.59-.52 0-1.04.2-1.43.59L10.3 9.45l-7.72 7.72c-.78.78-.78 2.05 0 2.83L4 21.41c.39.39.9.59 1.41.59.51 0 1.02-.2 1.41-.59l7.78-7.78 2.81-2.81c.8-.78.8-2.07 0-2.86zM5.41 20L4 18.59l7.72-7.72 1.47 1.35L5.41 20z\"/>\n",
              "  </svg>\n",
              "      </button>\n",
              "      \n",
              "  <style>\n",
              "    .colab-df-container {\n",
              "      display:flex;\n",
              "      flex-wrap:wrap;\n",
              "      gap: 12px;\n",
              "    }\n",
              "\n",
              "    .colab-df-convert {\n",
              "      background-color: #E8F0FE;\n",
              "      border: none;\n",
              "      border-radius: 50%;\n",
              "      cursor: pointer;\n",
              "      display: none;\n",
              "      fill: #1967D2;\n",
              "      height: 32px;\n",
              "      padding: 0 0 0 0;\n",
              "      width: 32px;\n",
              "    }\n",
              "\n",
              "    .colab-df-convert:hover {\n",
              "      background-color: #E2EBFA;\n",
              "      box-shadow: 0px 1px 2px rgba(60, 64, 67, 0.3), 0px 1px 3px 1px rgba(60, 64, 67, 0.15);\n",
              "      fill: #174EA6;\n",
              "    }\n",
              "\n",
              "    [theme=dark] .colab-df-convert {\n",
              "      background-color: #3B4455;\n",
              "      fill: #D2E3FC;\n",
              "    }\n",
              "\n",
              "    [theme=dark] .colab-df-convert:hover {\n",
              "      background-color: #434B5C;\n",
              "      box-shadow: 0px 1px 3px 1px rgba(0, 0, 0, 0.15);\n",
              "      filter: drop-shadow(0px 1px 2px rgba(0, 0, 0, 0.3));\n",
              "      fill: #FFFFFF;\n",
              "    }\n",
              "  </style>\n",
              "\n",
              "      <script>\n",
              "        const buttonEl =\n",
              "          document.querySelector('#df-9c62220b-563e-425e-bd8c-8adb42a43c1c button.colab-df-convert');\n",
              "        buttonEl.style.display =\n",
              "          google.colab.kernel.accessAllowed ? 'block' : 'none';\n",
              "\n",
              "        async function convertToInteractive(key) {\n",
              "          const element = document.querySelector('#df-9c62220b-563e-425e-bd8c-8adb42a43c1c');\n",
              "          const dataTable =\n",
              "            await google.colab.kernel.invokeFunction('convertToInteractive',\n",
              "                                                     [key], {});\n",
              "          if (!dataTable) return;\n",
              "\n",
              "          const docLinkHtml = 'Like what you see? Visit the ' +\n",
              "            '<a target=\"_blank\" href=https://colab.research.google.com/notebooks/data_table.ipynb>data table notebook</a>'\n",
              "            + ' to learn more about interactive tables.';\n",
              "          element.innerHTML = '';\n",
              "          dataTable['output_type'] = 'display_data';\n",
              "          await google.colab.output.renderOutput(dataTable, element);\n",
              "          const docLink = document.createElement('div');\n",
              "          docLink.innerHTML = docLinkHtml;\n",
              "          element.appendChild(docLink);\n",
              "        }\n",
              "      </script>\n",
              "    </div>\n",
              "  </div>\n",
              "  "
            ]
          },
          "metadata": {},
          "execution_count": 12
        }
      ]
    },
    {
      "cell_type": "code",
      "source": [
        "plt.imshow(data['image'][1].reshape(299,299),cmap='gray')\n",
        "print(data['corona_result'][1])"
      ],
      "metadata": {
        "colab": {
          "base_uri": "https://localhost:8080/",
          "height": 286
        },
        "id": "PILnZgYrvUGT",
        "outputId": "85d1483c-38e7-431b-8718-bb6cbc3e0299"
      },
      "execution_count": 13,
      "outputs": [
        {
          "output_type": "stream",
          "name": "stdout",
          "text": [
            "Negative\n"
          ]
        },
        {
          "output_type": "display_data",
          "data": {
            "text/plain": [
              "<Figure size 432x288 with 1 Axes>"
            ],
            "image/png": "[encoded data removed]"
          },
          "metadata": {
            "needs_background": "light"
          }
        }
      ]
    },
    {
      "cell_type": "markdown",
      "source": [
        "## Membuat Model"
      ],
      "metadata": {
        "id": "XhYTnPPVwfa6"
      }
    },
    {
      "cell_type": "code",
      "source": [
        "all_data=[]\n",
        "\n",
        "for i in range (len(data)):\n",
        "    y=1\n",
        "    if data['corona_result'][i]== 'Negative':\n",
        "        y=0\n",
        "    \n",
        "    all_data.append([data['image'][i],y])\n",
        "    "
      ],
      "metadata": {
        "id": "NQHsoWRcyDQB"
      },
      "execution_count": 14,
      "outputs": []
    },
    {
      "cell_type": "code",
      "source": [
        "x = []\n",
        "y = []\n",
        "for image, label in all_data:\n",
        "    x.append(image)\n",
        "    y.append(label)\n",
        "\n",
        "x = np.array(x)\n",
        "y = np.array(y)\n"
      ],
      "metadata": {
        "id": "mkCDkOViyHdM"
      },
      "execution_count": 15,
      "outputs": []
    },
    {
      "cell_type": "code",
      "source": [
        "\n",
        "\n",
        "# 70% of data is training data, set aside other 30%\n",
        "x_train, x_OTHER, y_train, y_OTHER = train_test_split(x, y, test_size=0.3, random_state=101)\n",
        "\n",
        "# Remaining 30% is split into evaluation and test sets\n",
        "# Each is 15% of the original data size\n",
        "x_eval, x_test, y_eval, y_test = train_test_split(x_OTHER, y_OTHER, test_size=0.5, random_state=101)\n",
        "\n",
        "print(x_train.shape, x_test.shape, x_eval.shape, y_train.shape, y_test.shape, y_eval.shape)\n",
        "\n"
      ],
      "metadata": {
        "id": "m9iX1ll0x928",
        "colab": {
          "base_uri": "https://localhost:8080/"
        },
        "outputId": "95df28bd-2cac-4be9-85be-86e181c2a631"
      },
      "execution_count": 16,
      "outputs": [
        {
          "output_type": "stream",
          "name": "stdout",
          "text": [
            "(5062, 299, 299, 1) (1085, 299, 299, 1) (1085, 299, 299, 1) (5062,) (1085,) (1085,)\n"
          ]
        }
      ]
    },
    {
      "cell_type": "code",
      "source": [
        "def kel5net(): #proposed model\n",
        "    return tf.keras.models.Sequential([\n",
        "        tf.keras.layers.Conv2D(filters=32, kernel_size=3, activation='relu',\n",
        "                               padding='same', input_shape=(299,299,1)),\n",
        "        tf.keras.layers.MaxPool2D(pool_size=2, strides=2),\n",
        "        tf.keras.layers.Conv2D(filters=32, kernel_size=3,\n",
        "                               activation='relu', padding='same'),\n",
        "        tf.keras.layers.MaxPool2D(pool_size=2, strides=2),\n",
        "        tf.keras.layers.Conv2D(filters=32, kernel_size=3, activation='relu',\n",
        "                               padding='same'),\n",
        "        tf.keras.layers.MaxPool2D(pool_size=2, strides=2),\n",
        "        tf.keras.layers.Conv2D(filters=32, kernel_size=3,\n",
        "                               activation='relu', padding='same'),\n",
        "        tf.keras.layers.MaxPool2D(pool_size=2, strides=2),\n",
        "        tf.keras.layers.Flatten(),\n",
        "        tf.keras.layers.Dense(64, activation='relu'),\n",
        "        tf.keras.layers.Dropout(0.5),\n",
        "        tf.keras.layers.Dense(2,activation='softmax')])\n",
        "    \n",
        "\n"
      ],
      "metadata": {
        "id": "t_vn_bzjwVhn"
      },
      "execution_count": 17,
      "outputs": []
    },
    {
      "cell_type": "code",
      "source": [
        "net=kel5net()\n",
        "net.summary()"
      ],
      "metadata": {
        "colab": {
          "base_uri": "https://localhost:8080/"
        },
        "id": "Fd0NitFEgAtC",
        "outputId": "60e3e8d5-8e16-4f1b-81a1-0e2a5d659058"
      },
      "execution_count": 18,
      "outputs": [
        {
          "output_type": "stream",
          "name": "stdout",
          "text": [
            "Model: \"sequential\"\n",
            "_________________________________________________________________\n",
            " Layer (type)                Output Shape              Param #   \n",
            "=================================================================\n",
            " conv2d (Conv2D)             (None, 299, 299, 32)      320       \n",
            "                                                                 \n",
            " max_pooling2d (MaxPooling2D  (None, 149, 149, 32)     0         \n",
            " )                                                               \n",
            "                                                                 \n",
            " conv2d_1 (Conv2D)           (None, 149, 149, 32)      9248      \n",
            "                                                                 \n",
            " max_pooling2d_1 (MaxPooling  (None, 74, 74, 32)       0         \n",
            " 2D)                                                             \n",
            "                                                                 \n",
            " conv2d_2 (Conv2D)           (None, 74, 74, 32)        9248      \n",
            "                                                                 \n",
            " max_pooling2d_2 (MaxPooling  (None, 37, 37, 32)       0         \n",
            " 2D)                                                             \n",
            "                                                                 \n",
            " conv2d_3 (Conv2D)           (None, 37, 37, 32)        9248      \n",
            "                                                                 \n",
            " max_pooling2d_3 (MaxPooling  (None, 18, 18, 32)       0         \n",
            " 2D)                                                             \n",
            "                                                                 \n",
            " flatten (Flatten)           (None, 10368)             0         \n",
            "                                                                 \n",
            " dense (Dense)               (None, 64)                663616    \n",
            "                                                                 \n",
            " dropout (Dropout)           (None, 64)                0         \n",
            "                                                                 \n",
            " dense_1 (Dense)             (None, 2)                 130       \n",
            "                                                                 \n",
            "=================================================================\n",
            "Total params: 691,810\n",
            "Trainable params: 691,810\n",
            "Non-trainable params: 0\n",
            "_________________________________________________________________\n"
          ]
        }
      ]
    },
    {
      "cell_type": "code",
      "source": [
        "test_input = tf.random.uniform((1, 299, 299, 1))\n",
        "a=net(test_input)\n",
        "print(a)\n",
        "print(sum(sum(a)))"
      ],
      "metadata": {
        "colab": {
          "base_uri": "https://localhost:8080/"
        },
        "id": "kZp2Mm9WxbxK",
        "outputId": "e4dd70b8-c3ba-470e-bf28-751a51f3230f"
      },
      "execution_count": 19,
      "outputs": [
        {
          "output_type": "stream",
          "name": "stdout",
          "text": [
            "tf.Tensor([[0.4983635 0.5016365]], shape=(1, 2), dtype=float32)\n",
            "tf.Tensor(1.0, shape=(), dtype=float32)\n"
          ]
        }
      ]
    },
    {
      "cell_type": "code",
      "source": [
        "\n",
        "net.compile(optimizer = 'adam', \n",
        "           loss = tf.keras.losses.SparseCategoricalCrossentropy(from_logits = False), \n",
        "           metrics = ['accuracy'])\n",
        "\n",
        "es = tf.keras.callbacks.EarlyStopping(monitor = 'val_loss', mode = 'min', verbose = 1, patience = 4)\n",
        "\n",
        "\n",
        "\n",
        "\n",
        "History= net.fit(x_train, y_train, \n",
        "                        epochs = 50, batch_size=64,\n",
        "                        validation_data = (x_eval, y_eval),callbacks=[es]\n",
        "                        )"
      ],
      "metadata": {
        "colab": {
          "base_uri": "https://localhost:8080/"
        },
        "id": "IClUaovtys8Z",
        "outputId": "a706afec-c8b3-4780-dac9-8b483dcb6555"
      },
      "execution_count": 20,
      "outputs": [
        {
          "output_type": "stream",
          "name": "stdout",
          "text": [
            "Epoch 1/50\n",
            "80/80 [==============================] - 14s 139ms/step - loss: 1.7665 - accuracy: 0.7309 - val_loss: 0.4454 - val_accuracy: 0.7982\n",
            "Epoch 2/50\n",
            "80/80 [==============================] - 10s 126ms/step - loss: 0.3976 - accuracy: 0.8339 - val_loss: 0.2907 - val_accuracy: 0.8765\n",
            "Epoch 3/50\n",
            "80/80 [==============================] - 10s 129ms/step - loss: 0.3212 - accuracy: 0.8722 - val_loss: 0.2426 - val_accuracy: 0.8977\n",
            "Epoch 4/50\n",
            "80/80 [==============================] - 10s 130ms/step - loss: 0.2751 - accuracy: 0.8910 - val_loss: 0.2059 - val_accuracy: 0.9235\n",
            "Epoch 5/50\n",
            "80/80 [==============================] - 10s 130ms/step - loss: 0.2203 - accuracy: 0.9156 - val_loss: 0.2111 - val_accuracy: 0.9281\n",
            "Epoch 6/50\n",
            "80/80 [==============================] - 10s 129ms/step - loss: 0.1942 - accuracy: 0.9241 - val_loss: 0.1912 - val_accuracy: 0.9318\n",
            "Epoch 7/50\n",
            "80/80 [==============================] - 10s 128ms/step - loss: 0.1648 - accuracy: 0.9358 - val_loss: 0.1960 - val_accuracy: 0.9336\n",
            "Epoch 8/50\n",
            "80/80 [==============================] - 10s 127ms/step - loss: 0.1529 - accuracy: 0.9417 - val_loss: 0.1632 - val_accuracy: 0.9465\n",
            "Epoch 9/50\n",
            "80/80 [==============================] - 10s 128ms/step - loss: 0.1377 - accuracy: 0.9459 - val_loss: 0.2107 - val_accuracy: 0.9235\n",
            "Epoch 10/50\n",
            "80/80 [==============================] - 10s 128ms/step - loss: 0.1274 - accuracy: 0.9516 - val_loss: 0.1859 - val_accuracy: 0.9438\n",
            "Epoch 11/50\n",
            "80/80 [==============================] - 10s 128ms/step - loss: 0.1100 - accuracy: 0.9603 - val_loss: 0.1910 - val_accuracy: 0.9438\n",
            "Epoch 12/50\n",
            "80/80 [==============================] - 10s 129ms/step - loss: 0.0878 - accuracy: 0.9662 - val_loss: 0.2362 - val_accuracy: 0.9300\n",
            "Epoch 12: early stopping\n"
          ]
        }
      ]
    },
    {
      "cell_type": "code",
      "source": [
        "net.save('/content/drive/MyDrive/proyek_Kelompok5/net')"
      ],
      "metadata": {
        "colab": {
          "base_uri": "https://localhost:8080/"
        },
        "id": "yfynTQ-PiJ-S",
        "outputId": "59b6d8fb-b98c-4ee4-a928-90a311eedc12"
      },
      "execution_count": 21,
      "outputs": [
        {
          "output_type": "stream",
          "name": "stdout",
          "text": [
            "INFO:tensorflow:Assets written to: /content/drive/MyDrive/proyek_Kelompok5/net/assets\n"
          ]
        }
      ]
    },
    {
      "cell_type": "markdown",
      "source": [
        "## Performance Analysis"
      ],
      "metadata": {
        "id": "GZdvaoDU1dOK"
      }
    },
    {
      "cell_type": "code",
      "source": [
        "# Summarize History for Accuracy\n",
        "\n",
        "plt.plot(History.history['accuracy'])\n",
        "plt.plot(History.history['val_accuracy'])\n",
        "plt.title('Model Accuracy')\n",
        "plt.ylabel('Accuracy')\n",
        "plt.xlabel('Epoch')\n",
        "plt.legend(['Train', 'Validation'], loc = 'lower right')\n",
        "plt.savefig('/content/drive/MyDrive/proyek_Kelompok5/his_acc')"
      ],
      "metadata": {
        "colab": {
          "base_uri": "https://localhost:8080/",
          "height": 295
        },
        "id": "lbrz83Ki0lWW",
        "outputId": "6d1c40af-9908-4768-c185-babf631cd991"
      },
      "execution_count": 22,
      "outputs": [
        {
          "output_type": "display_data",
          "data": {
            "text/plain": [
              "<Figure size 432x288 with 1 Axes>"
            ],
            "image/png": "[encoded data removed]"
          },
          "metadata": {
            "needs_background": "light"
          }
        }
      ]
    },
    {
      "cell_type": "code",
      "source": [
        "# Summarize History for Loss\n",
        "\n",
        "plt.plot(History.history['loss'])\n",
        "plt.plot(History.history['val_loss'])\n",
        "plt.title('Model Loss')\n",
        "plt.ylabel('Loss')\n",
        "plt.xlabel('Epoch')\n",
        "plt.legend(['Train', 'Validation'], loc = 'upper right')\n",
        "plt.savefig('/content/drive/MyDrive/proyek_Kelompok5/loss_acc')"
      ],
      "metadata": {
        "id": "QgVPaHcR1niT",
        "colab": {
          "base_uri": "https://localhost:8080/",
          "height": 295
        },
        "outputId": "78c68c07-98a0-4610-f1d5-a61aeea78ea6"
      },
      "execution_count": 23,
      "outputs": [
        {
          "output_type": "display_data",
          "data": {
            "text/plain": [
              "<Figure size 432x288 with 1 Axes>"
            ],
            "image/png": "[encoded data removed]"
          },
          "metadata": {
            "needs_background": "light"
          }
        }
      ]
    },
    {
      "cell_type": "code",
      "source": [
        "from sklearn.metrics import confusion_matrix, ConfusionMatrixDisplay, classification_report, recall_score, accuracy_score, precision_score, f1_score"
      ],
      "metadata": {
        "id": "dD9xP9XA2kPZ"
      },
      "execution_count": 24,
      "outputs": []
    },
    {
      "cell_type": "code",
      "source": [
        "def report_model(model,x_test,y_test,naming,tittle):\n",
        "  yp_test = model.predict(x_test)\n",
        "  yp_test = np.argmax(yp_test, axis = 1)\n",
        "  cm=confusion_matrix(yp_test,y_test)\n",
        "  plt.matshow(cm)\n",
        "  plt.title(tittle)\n",
        "  plt.colorbar()\n",
        "  plt.ylabel('True Label')\n",
        "  plt.xlabel('Predicated Label')\n",
        "  for (x, y), value in np.ndenumerate(cm):\n",
        "    plt.text(x, y, f\"{value}\", va=\"center\", ha=\"center\", c='blue')\n",
        "  plt.savefig(f'/content/drive/MyDrive/proyek_Kelompok5/{naming}')\n",
        "  print(classification_report(y_test, yp_test))\n"
      ],
      "metadata": {
        "id": "DBEn0aH41unU"
      },
      "execution_count": 25,
      "outputs": []
    },
    {
      "cell_type": "code",
      "source": [
        "print(\"\\nClassification Report for Test Data\\n\")\n",
        "report_model(net,x_test,y_test, \"testdata\", 'Confussion Matrix for test data') "
      ],
      "metadata": {
        "id": "FvouDcMf2Xkw",
        "colab": {
          "base_uri": "https://localhost:8080/",
          "height": 465
        },
        "outputId": "e14e7656-cd6a-4d8a-afe0-d4abd6f962c0"
      },
      "execution_count": 26,
      "outputs": [
        {
          "output_type": "stream",
          "name": "stdout",
          "text": [
            "\n",
            "Classification Report for Test Data\n",
            "\n",
            "              precision    recall  f1-score   support\n",
            "\n",
            "           0       0.91      0.97      0.94       540\n",
            "           1       0.97      0.91      0.94       545\n",
            "\n",
            "    accuracy                           0.94      1085\n",
            "   macro avg       0.94      0.94      0.94      1085\n",
            "weighted avg       0.94      0.94      0.94      1085\n",
            "\n"
          ]
        },
        {
          "output_type": "display_data",
          "data": {
            "text/plain": [
              "<Figure size 288x288 with 2 Axes>"
            ],
            "image/png": "[encoded data removed]"
          },
          "metadata": {
            "needs_background": "light"
          }
        }
      ]
    },
    {
      "cell_type": "code",
      "source": [
        "print(\"\\nClassification Report for Validation data \\n\")\n",
        "report_model(net,x_eval,y_eval,\"validata\", \"Confusion Matrix for valid data\")"
      ],
      "metadata": {
        "id": "b3ux27ys2dOP",
        "colab": {
          "base_uri": "https://localhost:8080/",
          "height": 465
        },
        "outputId": "ca835e6f-9c68-4fa7-89ea-ffada17c272f"
      },
      "execution_count": 27,
      "outputs": [
        {
          "output_type": "stream",
          "name": "stdout",
          "text": [
            "\n",
            "Classification Report for Validation data \n",
            "\n",
            "              precision    recall  f1-score   support\n",
            "\n",
            "           0       0.90      0.97      0.93       544\n",
            "           1       0.97      0.89      0.93       541\n",
            "\n",
            "    accuracy                           0.93      1085\n",
            "   macro avg       0.93      0.93      0.93      1085\n",
            "weighted avg       0.93      0.93      0.93      1085\n",
            "\n"
          ]
        },
        {
          "output_type": "display_data",
          "data": {
            "text/plain": [
              "<Figure size 288x288 with 2 Axes>"
            ],
            "image/png": "[encoded data removed]"
          },
          "metadata": {
            "needs_background": "light"
          }
        }
      ]
    },
    {
      "cell_type": "code",
      "source": [
        "print(\"\\nClassification Report for training data \\n\")\n",
        "report_model(net,x_train, y_train,\"traindata\",\"Confussion Matrix for training data\")"
      ],
      "metadata": {
        "id": "yQ3p6CW220gd",
        "colab": {
          "base_uri": "https://localhost:8080/",
          "height": 465
        },
        "outputId": "9964faa5-eed7-44af-b787-2b3e38cdec2c"
      },
      "execution_count": 28,
      "outputs": [
        {
          "output_type": "stream",
          "name": "stdout",
          "text": [
            "\n",
            "Classification Report for training data \n",
            "\n",
            "              precision    recall  f1-score   support\n",
            "\n",
            "           0       0.95      0.99      0.97      2532\n",
            "           1       0.99      0.95      0.97      2530\n",
            "\n",
            "    accuracy                           0.97      5062\n",
            "   macro avg       0.97      0.97      0.97      5062\n",
            "weighted avg       0.97      0.97      0.97      5062\n",
            "\n"
          ]
        },
        {
          "output_type": "display_data",
          "data": {
            "text/plain": [
              "<Figure size 288x288 with 2 Axes>"
            ],
            "image/png": "[encoded data removed]"
          },
          "metadata": {
            "needs_background": "light"
          }
        }
      ]
    },
    {
      "cell_type": "code",
      "source": [
        "activation = get_activations(net, x_test[19].reshape(1,299,299,1))"
      ],
      "metadata": {
        "id": "EpjSSnmeS4Lr"
      },
      "execution_count": 30,
      "outputs": []
    },
    {
      "cell_type": "code",
      "source": [
        "display_activations(activation,cmap='gray', save=True, directory='/content/drive/MyDrive/proyek_Kelompok5/activation')"
      ],
      "metadata": {
        "colab": {
          "base_uri": "https://localhost:8080/"
        },
        "id": "9Op4ekQRTJlu",
        "outputId": "aebe0879-1ac3-41a2-f48c-dae5f7edb8a6"
      },
      "execution_count": 37,
      "outputs": [
        {
          "output_type": "stream",
          "name": "stdout",
          "text": [
            "conv2d_input (1, 299, 299, 1) \n",
            "conv2d (1, 299, 299, 32) \n",
            "max_pooling2d (1, 149, 149, 32) \n",
            "conv2d_1 (1, 149, 149, 32) \n",
            "max_pooling2d_1 (1, 74, 74, 32) \n",
            "conv2d_2 (1, 74, 74, 32) \n",
            "max_pooling2d_2 (1, 37, 37, 32) \n",
            "conv2d_3 (1, 37, 37, 32) \n",
            "max_pooling2d_3 (1, 18, 18, 32) \n",
            "flatten (1, 10368) \n",
            "dense (1, 64) \n",
            "dropout (1, 64) \n",
            "dense_1 (1, 2) \n"
          ]
        }
      ]
    },
    {
      "cell_type": "code",
      "source": [
        "display_heatmaps(activation,x_test[19],save=True, directory='/content/drive/MyDrive/proyek_Kelompok5/Heatmap')"
      ],
      "metadata": {
        "colab": {
          "base_uri": "https://localhost:8080/"
        },
        "id": "0BcDSE-dTOoU",
        "outputId": "cbaa6a0b-5f7c-446b-bd79-40a6dd6d37b8"
      },
      "execution_count": 36,
      "outputs": [
        {
          "output_type": "stream",
          "name": "stdout",
          "text": [
            "conv2d_input (1, 299, 299, 1) \n",
            "conv2d (1, 299, 299, 32) \n",
            "max_pooling2d (1, 149, 149, 32) \n",
            "conv2d_1 (1, 149, 149, 32) \n",
            "max_pooling2d_1 (1, 74, 74, 32) \n",
            "conv2d_2 (1, 74, 74, 32) \n",
            "max_pooling2d_2 (1, 37, 37, 32) \n",
            "conv2d_3 (1, 37, 37, 32) \n",
            "max_pooling2d_3 (1, 18, 18, 32) \n",
            "flatten (1, 10368) -> Skipped. 2D Activations.\n",
            "dense (1, 64) -> Skipped. 2D Activations.\n",
            "dropout (1, 64) -> Skipped. 2D Activations.\n",
            "dense_1 (1, 2) -> Skipped. 2D Activations.\n"
          ]
        }
      ]
    }
  ]
}